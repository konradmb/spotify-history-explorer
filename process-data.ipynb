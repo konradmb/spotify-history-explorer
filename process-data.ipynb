{
 "cells": [
  {
   "cell_type": "code",
   "execution_count": null,
   "metadata": {},
   "outputs": [],
   "source": [
    "%pip install humanize\n",
    "\n",
    "import json, glob, ipywidgets\n",
    "import pandas as pd\n",
    "import IPython.display as ipd\n",
    "import humanize, datetime as dt"
   ]
  },
  {
   "cell_type": "code",
   "execution_count": null,
   "metadata": {},
   "outputs": [],
   "source": [
    "files = []\n",
    "  \n",
    "for file in glob.glob(\"./data/**/StreamingHistory*.json\", recursive=True):\n",
    "  files.append(file)\n",
    "\n",
    "#Extended history\n",
    "for file in glob.glob(\"./data/**/Streaming_History_Audio*.json\", recursive=True):\n",
    "  files.append(file)\n"
   ]
  },
  {
   "cell_type": "code",
   "execution_count": null,
   "metadata": {},
   "outputs": [],
   "source": [
    "\n",
    "files_after_exclusions = []\n",
    "for file in files:\n",
    "  if file.find(\"/exclude/\") == -1:\n",
    "    files_after_exclusions.append(file)\n",
    "files = files_after_exclusions\n",
    "  "
   ]
  },
  {
   "cell_type": "code",
   "execution_count": null,
   "metadata": {},
   "outputs": [],
   "source": [
    "data = []\n",
    "\n",
    "for file in files:\n",
    "  print(f\"Reading file: {file}\")\n",
    "  data.extend(json.load(open(file)))\n"
   ]
  },
  {
   "cell_type": "code",
   "execution_count": null,
   "metadata": {},
   "outputs": [],
   "source": [
    "def rename_columns(df):\n",
    "  df = df.rename(\n",
    "    columns={\n",
    "      \"msPlayed\": \"Play time\",\n",
    "      \"ms_played\": \"Play time\",\n",
    "      \n",
    "      \"trackName\": \"Track name\",\n",
    "      \"master_metadata_track_name\": \"Track name\",\n",
    "      \n",
    "      \"artistName\": \"Artist name\",\n",
    "      \"master_metadata_album_artist_name\": \"Artist name\",\n",
    "\n",
    "      \"endTime\": \"Timestamp\",\n",
    "      \"ts\": \"Timestamp\"\n",
    "      }\n",
    "  )\n",
    "  df = df[[\"Timestamp\", \"Play time\", \"Track name\", \"Artist name\"]]\n",
    "  return df\n",
    "\n",
    "def add_position(df):\n",
    "  df = df.reset_index()\n",
    "  df.insert(0, \"Position\", range(1, 1+len(df)))\n",
    "  return df"
   ]
  },
  {
   "cell_type": "code",
   "execution_count": null,
   "metadata": {},
   "outputs": [],
   "source": [
    "dfs = (pd.read_json(f) for f in files)\n",
    "df = pd.concat(dfs)\n",
    "\n",
    "df = rename_columns(df)"
   ]
  },
  {
   "cell_type": "code",
   "execution_count": null,
   "metadata": {},
   "outputs": [],
   "source": [
    "display(\n",
    "  ipd.Markdown(\n",
    "    f\"\"\"\n",
    "## Total play time:\n",
    "**{\n",
    "humanize.precisedelta(\n",
    "  dt.timedelta(milliseconds = int(df[\"Play time\"].sum())))\n",
    "}**\n",
    "\n",
    "## Money paid by Spotify to rightholders:\n",
    "Probably very inaccurate, Spotify doesn't really pay per play. Based on 0.003 USD per play.\n",
    "\n",
    "**{\n",
    "len(df[\"Play time\"].loc[df[\"Play time\"] >= 30_000]) * 0.003\n",
    "} USD**\n",
    "\n",
    "## Data range: \n",
    "From **{df[\"Timestamp\"].sort_values().iloc[0]}** to **{df[\"Timestamp\"].sort_values().iloc[-1]}**\n",
    "\"\"\"\n",
    "  )\n",
    ")\n"
   ]
  },
  {
   "cell_type": "code",
   "execution_count": null,
   "metadata": {},
   "outputs": [],
   "source": [
    "display(\n",
    "  ipd.Markdown(\n",
    "    \"\"\"\n",
    "## Most played songs:\n",
    "(played over 30 seconds)\n",
    "    \"\"\"\n",
    "  )\n",
    ")\n",
    "\n",
    "songCounts = df.loc[df[\"Play time\"] >= 30_000]\n",
    "songCounts = songCounts[[\"Track name\", \"Artist name\"]].value_counts().rename(\"Play count\")\n",
    "songCounts = add_position(songCounts)\n",
    "\n",
    "top_x = ipywidgets.IntSlider(\n",
    "    value=10,\n",
    "    min=0,\n",
    "    max=100\n",
    ")\n",
    "ui = ipywidgets.HBox([ipywidgets.Label(\"Show top X songs (0 = all):\"), top_x])\n",
    "\n",
    "def countSongs(x):\n",
    "  x = len(songCounts) if x == 0 else x\n",
    "  display(ipywidgets.HTML(songCounts.head(x).to_html(index=False)))\n",
    "\n",
    "\n",
    "out = ipywidgets.interactive_output(countSongs, {'x': top_x})\n",
    "\n",
    "display(ui, out)\n"
   ]
  },
  {
   "cell_type": "code",
   "execution_count": null,
   "metadata": {},
   "outputs": [],
   "source": [
    "display(ipd.Markdown(\"## Most played songs by play time:\"))\n",
    "\n",
    "playtime = df.groupby([\"Track name\", \"Artist name\"]).sum().sort_values(\"Play time\", ascending=False)\n",
    "playtime = playtime.drop(\"Timestamp\", axis=1)\n",
    "playtime[\"Play time\"] = (\n",
    "  playtime[\"Play time\"].\n",
    "  apply(\n",
    "      lambda x: humanize.precisedelta(\n",
    "          dt.timedelta(milliseconds = x)\n",
    "          )\n",
    "  )\n",
    ")\n",
    "playtime = add_position(playtime)\n",
    "\n",
    "top_x = ipywidgets.IntSlider(\n",
    "    value=10,\n",
    "    min=0,\n",
    "    max=100\n",
    ")\n",
    "ui = ipywidgets.HBox([ipywidgets.Label(\"Show top X songs (0 = all):\"), top_x])\n",
    "\n",
    "def countSongs(x):\n",
    "  x = len(playtime) if x == 0 else x\n",
    "  display(ipywidgets.HTML(playtime.head(x).to_html(index=False)))\n",
    "\n",
    "\n",
    "out = ipywidgets.interactive_output(countSongs, {'x': top_x})\n",
    "\n",
    "display(ui, out)\n"
   ]
  }
 ],
 "metadata": {
  "language_info": {
   "name": "python"
  }
 },
 "nbformat": 4,
 "nbformat_minor": 4
}
