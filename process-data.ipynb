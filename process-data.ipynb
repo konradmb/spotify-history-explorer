{
 "cells": [
  {
   "cell_type": "code",
   "execution_count": null,
   "metadata": {},
   "outputs": [],
   "source": [
    "%pip install humanize\n",
    "\n",
    "import json, glob, ipywidgets\n",
    "import pandas as pd\n",
    "import IPython.display as ipd\n",
    "import humanize, datetime as dt\n",
    "\n",
    "files = []\n",
    "  \n",
    "for file in glob.glob(\"./data/StreamingHistory*.json\"):\n",
    "  files.append(file)"
   ]
  },
  {
   "cell_type": "code",
   "execution_count": null,
   "metadata": {},
   "outputs": [],
   "source": [
    "data = []\n",
    "\n",
    "for file in files:\n",
    "  data.extend(json.load(open(file)))\n"
   ]
  },
  {
   "cell_type": "code",
   "execution_count": null,
   "metadata": {},
   "outputs": [],
   "source": [
    "dfs = (pd.read_json(f) for f in files)\n",
    "df = pd.concat(dfs)"
   ]
  },
  {
   "cell_type": "code",
   "execution_count": null,
   "metadata": {},
   "outputs": [],
   "source": [
    "def renameColumns(df):\n",
    "  df = df.reset_index()\n",
    "  df.insert(0, \"Position\", range(1, 1+len(df)))\n",
    "  df = df.rename(\n",
    "    columns={\n",
    "      \"msPlayed\": \"Play time\",\n",
    "      \"trackName\": \"Track name\",\n",
    "      \"artistName\": \"Artist name\"\n",
    "      }\n",
    "  )\n",
    "  return df"
   ]
  },
  {
   "cell_type": "code",
   "execution_count": null,
   "metadata": {},
   "outputs": [],
   "source": [
    "display(\n",
    "  ipd.Markdown(\n",
    "    f\"\"\"\n",
    "## Total play time:\n",
    "**{\n",
    "humanize.precisedelta(\n",
    "  dt.timedelta(milliseconds = int(df[\"msPlayed\"].sum())))\n",
    "}**\n",
    "\n",
    "## Money paid by Spotify to rightholders:\n",
    "Probably very inaccurate, Spotify doesn't really pay per play. Based on 0.003 USD per play.\n",
    "\n",
    "**{\n",
    "len(df[\"msPlayed\"].loc[df[\"msPlayed\"] >= 30_000]) * 0.003\n",
    "} USD**\n",
    "\n",
    "## Data range: \n",
    "From **{df[\"endTime\"].iloc[0]}** to **{df[\"endTime\"].iloc[-1]}**\n",
    "\"\"\"\n",
    "  )\n",
    ")\n"
   ]
  },
  {
   "cell_type": "code",
   "execution_count": null,
   "metadata": {},
   "outputs": [],
   "source": [
    "display(\n",
    "  ipd.Markdown(\n",
    "    \"\"\"\n",
    "## Most played songs:\n",
    "(played over 30 seconds)\n",
    "    \"\"\"\n",
    "  )\n",
    ")\n",
    "\n",
    "songCounts = df.loc[df[\"msPlayed\"] >= 30_000]\n",
    "songCounts = songCounts[[\"trackName\", \"artistName\"]].value_counts().rename(\"Play count\")\n",
    "\n",
    "top_x = ipywidgets.IntSlider(\n",
    "    value=10,\n",
    "    min=0,\n",
    "    max=100\n",
    ")\n",
    "ui = ipywidgets.HBox([ipywidgets.Label(\"Show top X songs (0 = all):\"), top_x])\n",
    "\n",
    "def countSongs(x):\n",
    "  x = len(songCounts) if x == 0 else x\n",
    "  display(ipywidgets.HTML(renameColumns(songCounts.to_frame()).head(x).to_html(index=False)))\n",
    "\n",
    "\n",
    "out = ipywidgets.interactive_output(countSongs, {'x': top_x})\n",
    "\n",
    "display(ui, out)\n"
   ]
  },
  {
   "cell_type": "code",
   "execution_count": null,
   "metadata": {},
   "outputs": [],
   "source": [
    "display(ipd.Markdown(\"## Most played songs by play time:\"))\n",
    "\n",
    "playtime = df.groupby([\"trackName\", \"artistName\"]).sum().sort_values(\"msPlayed\", ascending=False)\n",
    "playtime = playtime.drop(\"endTime\", axis=1)\n",
    "playtime[\"msPlayed\"] = (\n",
    "  playtime[\"msPlayed\"].\n",
    "  apply(\n",
    "      lambda x: humanize.precisedelta(\n",
    "          dt.timedelta(milliseconds = x)\n",
    "          )\n",
    "  )\n",
    ")\n",
    "playtime = renameColumns(playtime)\n",
    "\n",
    "top_x = ipywidgets.IntSlider(\n",
    "    value=10,\n",
    "    min=0,\n",
    "    max=100\n",
    ")\n",
    "ui = ipywidgets.HBox([ipywidgets.Label(\"Show top X songs (0 = all):\"), top_x])\n",
    "\n",
    "def countSongs(x):\n",
    "  x = len(playtime) if x == 0 else x\n",
    "  display(ipywidgets.HTML(playtime.head(x).to_html(index=False)))\n",
    "\n",
    "\n",
    "out = ipywidgets.interactive_output(countSongs, {'x': top_x})\n",
    "\n",
    "display(ui, out)\n"
   ]
  }
 ],
 "metadata": {},
 "nbformat": 4,
 "nbformat_minor": 4
}
